{
 "cells": [
  {
   "cell_type": "markdown",
   "metadata": {},
   "source": [
    "Скрипт для создания графа друзей в вк из матрицы ребер. Она и создается этим скриптом и сохраняется в csv.\n",
    "Здесь используется VK API. Подробнее о нём вы можете узнать по [ссылке](https://vk.com/dev/first_guide). Там вам нужно получить свой токен и пользоваться им здесь. Никому не давайте свой токен!"
   ]
  },
  {
   "cell_type": "code",
   "execution_count": null,
   "metadata": {},
   "outputs": [],
   "source": [
    "# подгружаем пакеты\n",
    "import requests\n",
    "import pandas as pd\n",
    "from tqdm import tqdm_notebook\n",
    "import time"
   ]
  },
  {
   "cell_type": "code",
   "execution_count": null,
   "metadata": {},
   "outputs": [],
   "source": [
    "# уникальный токен\n",
    "token = 'ваш токен'"
   ]
  },
  {
   "cell_type": "code",
   "execution_count": null,
   "metadata": {},
   "outputs": [],
   "source": [
    "def request_get_friends(id = '', fields = [], token = token):\n",
    "    \"\"\"Возращает информацию по друзьям для опредленного человека\"\"\"\n",
    "    r = 'https://api.vk.com/method/friends.get?' + 'user_id=' + str(id) + '&fields=' + ','.join(fields) + '&v=5.92&access_token=' + token\n",
    "    return r"
   ]
  },
  {
   "cell_type": "code",
   "execution_count": null,
   "metadata": {},
   "outputs": [],
   "source": [
    "# список моих друзей\n",
    "r = request_get_friends(id = 73614108,fields=['first_name'])\n",
    "my_friends = requests.get(r).json()['response']['items']\n",
    "id_friends = [x['id'] for x in my_friends]"
   ]
  },
  {
   "cell_type": "code",
   "execution_count": null,
   "metadata": {},
   "outputs": [],
   "source": [
    "# mf это матрица ребер для моих друзей\n",
    "id_friends = [x['id'] for x in my_friends]\n",
    "mf = pd.DataFrame(my_friends)\n",
    "mf['id_1'] = 73614108\n",
    "mf['name_1'] = 'Зарманбетов Ахмед'\n",
    "mf['id_2'] = mf['id']\n",
    "mf['name_2'] = mf[['last_name', 'first_name']].apply(lambda x: ' '.join(x), axis=1)\n",
    "mf = mf.loc[:,['id_1', 'name_1','id_2','name_2']]\n",
    "\n",
    "final = mf.copy()"
   ]
  },
  {
   "cell_type": "code",
   "execution_count": null,
   "metadata": {},
   "outputs": [],
   "source": [
    "for i in tqdm_notebook(range(mf.shape[0])):\n",
    "    t = request_get_friends(id = mf.iloc[i,2], fields=['first_name'])\n",
    "    t1 = requests.get(t).json()\n",
    "    if 'response' in t1.keys():\n",
    "        t1 = t1['response']['items']\n",
    "        t2 = pd.DataFrame(t1)\n",
    "        t2['id_1'] = mf.iloc[i,2]\n",
    "        t2['name_1'] = mf.iloc[i,3]\n",
    "        t2['id_2'] = t2['id']\n",
    "        t2['name_2'] = t2[['last_name', 'first_name']].apply(lambda x: ' '.join(x), axis=1)\n",
    "        t2 = t2.loc[:,['id_1', 'name_1','id_2','name_2']]\n",
    "        t2 = t2[t2['id_2'].isin(id_friends)]\n",
    "        final = pd.concat([final, t2])\n",
    "        time.sleep(0.5)"
   ]
  },
  {
   "cell_type": "code",
   "execution_count": null,
   "metadata": {},
   "outputs": [],
   "source": [
    "final.shape"
   ]
  },
  {
   "cell_type": "code",
   "execution_count": null,
   "metadata": {},
   "outputs": [],
   "source": [
    "# удаляем дубликаты\n",
    "final = pd.DataFrame([x if x[0]>x[2] else [x[2],x[3],x[0],x[1]] for x in final.values], columns=['id_1', 'name_1', 'id_2', 'name_2'])\n",
    "final = final.drop_duplicates() "
   ]
  },
  {
   "cell_type": "code",
   "execution_count": null,
   "metadata": {},
   "outputs": [],
   "source": [
    "final.shape"
   ]
  },
  {
   "cell_type": "code",
   "execution_count": null,
   "metadata": {},
   "outputs": [],
   "source": [
    "final.to_csv('edges.csv', index = False)"
   ]
  }
 ],
 "metadata": {
  "kernelspec": {
   "display_name": "Python 3",
   "language": "python",
   "name": "python3"
  },
  "language_info": {
   "codemirror_mode": {
    "name": "ipython",
    "version": 3
   },
   "file_extension": ".py",
   "mimetype": "text/x-python",
   "name": "python",
   "nbconvert_exporter": "python",
   "pygments_lexer": "ipython3",
   "version": "3.6.5"
  }
 },
 "nbformat": 4,
 "nbformat_minor": 2
}
